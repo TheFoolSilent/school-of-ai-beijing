{
  "nbformat": 4,
  "nbformat_minor": 0,
  "metadata": {
    "colab": {
      "name": "lesson3-nural-network-and-cnn.ipynb",
      "version": "0.3.2",
      "provenance": [],
      "collapsed_sections": [],
      "include_colab_link": true
    },
    "kernelspec": {
      "name": "python3",
      "display_name": "Python 3"
    },
    "accelerator": "GPU"
  },
  "cells": [
    {
      "cell_type": "markdown",
      "metadata": {
        "id": "view-in-github",
        "colab_type": "text"
      },
      "source": [
        "<a href=\"https://colab.research.google.com/github/wqw547243068/school-of-ai-beijing/blob/master/code/lecture_3/lesson3_nural_network_and_cnn.ipynb\" target=\"_parent\"><img src=\"https://colab.research.google.com/assets/colab-badge.svg\" alt=\"Open In Colab\"/></a>"
      ]
    },
    {
      "cell_type": "markdown",
      "metadata": {
        "id": "lWJkYJd4Xfme",
        "colab_type": "text"
      },
      "source": [
        "# FastAI-神经网络\n",
        "![soai](https://github.com/wqw547243068/school-of-ai-beijing/raw/master/other/SoAI_logo_full.png)\n",
        "- 【2019-05-19】王奇文，wqw547243068@163.com，[School of AI-Beijing](https://wqw547243068.github.io/school-of-ai-beijing/)\n",
        "\n",
        "\n",
        "## 第五课-神经网络\n",
        "\n",
        "- 神经网络基本原理"
      ]
    },
    {
      "cell_type": "markdown",
      "metadata": {
        "id": "38rk7yhfXxVB",
        "colab_type": "text"
      },
      "source": [
        "## 环境准备\n",
        "- 详见第一课\n",
        "- 注意：要开启GPU，否则cuda找不到，报错"
      ]
    },
    {
      "cell_type": "code",
      "metadata": {
        "id": "QNIRpI8eHqJj",
        "colab_type": "code",
        "colab": {}
      },
      "source": [
        "%matplotlib inline\n",
        "from fastai.basics import *"
      ],
      "execution_count": 0,
      "outputs": []
    },
    {
      "cell_type": "code",
      "metadata": {
        "id": "YSAjbtITzXQl",
        "colab_type": "code",
        "colab": {
          "base_uri": "https://localhost:8080/",
          "height": 34
        },
        "outputId": "483e4fc2-a453-4d6b-f179-28149e5f6c53"
      },
      "source": [
        "nn.modules"
      ],
      "execution_count": 4,
      "outputs": [
        {
          "output_type": "execute_result",
          "data": {
            "text/plain": [
              "<module 'torch.nn.modules' from '/usr/local/lib/python3.6/dist-packages/torch/nn/modules/__init__.py'>"
            ]
          },
          "metadata": {
            "tags": []
          },
          "execution_count": 4
        }
      ]
    },
    {
      "cell_type": "markdown",
      "metadata": {
        "id": "3mGsaE_nHqJn",
        "colab_type": "text"
      },
      "source": [
        "## MNIST SGD"
      ]
    },
    {
      "cell_type": "markdown",
      "metadata": {
        "id": "epRnqX6_HqJo",
        "colab_type": "text"
      },
      "source": [
        "Get the 'pickled' MNIST dataset from http://deeplearning.net/data/mnist/mnist.pkl.gz. We're going to treat it as a standard flat dataset with fully connected layers, rather than using a CNN."
      ]
    },
    {
      "cell_type": "markdown",
      "metadata": {
        "id": "YFJBX0LE0NLL",
        "colab_type": "text"
      },
      "source": [
        "### 下载特定格式的数据\n",
        "- 单独从以上网址下载数据到云端，并复制到指定位置"
      ]
    },
    {
      "cell_type": "code",
      "metadata": {
        "id": "IDneJSNCxbbB",
        "colab_type": "code",
        "colab": {
          "base_uri": "https://localhost:8080/",
          "height": 202
        },
        "outputId": "baef88b4-8c0f-4f7d-c14b-63993059b761"
      },
      "source": [
        "!wget http://deeplearning.net/data/mnist/mnist.pkl.gz"
      ],
      "execution_count": 8,
      "outputs": [
        {
          "output_type": "stream",
          "text": [
            "--2019-05-19 06:39:49--  http://deeplearning.net/data/mnist/mnist.pkl.gz\n",
            "Resolving deeplearning.net (deeplearning.net)... 132.204.26.28\n",
            "Connecting to deeplearning.net (deeplearning.net)|132.204.26.28|:80... connected.\n",
            "HTTP request sent, awaiting response... 200 OK\n",
            "Length: 16168813 (15M) [application/x-gzip]\n",
            "Saving to: ‘mnist.pkl.gz’\n",
            "\n",
            "mnist.pkl.gz        100%[===================>]  15.42M  7.58MB/s    in 2.0s    \n",
            "\n",
            "2019-05-19 06:39:56 (7.58 MB/s) - ‘mnist.pkl.gz’ saved [16168813/16168813]\n",
            "\n"
          ],
          "name": "stdout"
        }
      ]
    },
    {
      "cell_type": "markdown",
      "metadata": {
        "id": "uMO5G1BQ1nqe",
        "colab_type": "text"
      },
      "source": [
        "- 先检查自己的云环境，数据目录，是否有/root/.fastai/data"
      ]
    },
    {
      "cell_type": "code",
      "metadata": {
        "id": "x4WC-5DA1IuY",
        "colab_type": "code",
        "colab": {
          "base_uri": "https://localhost:8080/",
          "height": 34
        },
        "outputId": "b9ed29cf-d4c9-4a5f-8a5c-1382f104132e"
      },
      "source": [
        "!ls -l /root/.fastai/data"
      ],
      "execution_count": 23,
      "outputs": [
        {
          "output_type": "stream",
          "text": [
            "ls: cannot access '/root/.fastai/data': No such file or directory\n"
          ],
          "name": "stdout"
        }
      ]
    },
    {
      "cell_type": "code",
      "metadata": {
        "id": "AlJmBARhxkmY",
        "colab_type": "code",
        "colab": {
          "base_uri": "https://localhost:8080/",
          "height": 84
        },
        "outputId": "ae18b9ce-03e1-4714-a002-b8d0ceb696d8"
      },
      "source": [
        "%%bash\n",
        "# 创建目录并将数据copy过去\n",
        "data_dir='/root/.fastai/data/mnist'\n",
        "mkdir -p $data_dir\n",
        "[ -f $data_dir ]|| mkdir -p $data_dir\n",
        "pwd&&ls\n",
        "cp mnist.pkl.gz $data_dir\n",
        "ls $data_dir"
      ],
      "execution_count": 24,
      "outputs": [
        {
          "output_type": "stream",
          "text": [
            "/content\n",
            "mnist.pkl.gz\n",
            "sample_data\n",
            "mnist.pkl.gz\n"
          ],
          "name": "stdout"
        }
      ]
    },
    {
      "cell_type": "code",
      "metadata": {
        "id": "7B6nN8ZJHqJp",
        "colab_type": "code",
        "colab": {}
      },
      "source": [
        "path = Config().data_path()/'mnist'\n",
        "#path = untar_data(URLs.MNIST_SAMPLE) # 不能用fastai内置的mnist数据集"
      ],
      "execution_count": 0,
      "outputs": []
    },
    {
      "cell_type": "code",
      "metadata": {
        "id": "JaaJrUZNHqJs",
        "colab_type": "code",
        "colab": {
          "base_uri": "https://localhost:8080/",
          "height": 34
        },
        "outputId": "f725beca-0269-45d5-aee0-6f219a7c4027"
      },
      "source": [
        "path.ls()"
      ],
      "execution_count": 29,
      "outputs": [
        {
          "output_type": "execute_result",
          "data": {
            "text/plain": [
              "[PosixPath('/root/.fastai/data/mnist/mnist.pkl.gz')]"
            ]
          },
          "metadata": {
            "tags": []
          },
          "execution_count": 29
        }
      ]
    },
    {
      "cell_type": "code",
      "metadata": {
        "id": "-KcfWRnIHqJx",
        "colab_type": "code",
        "colab": {}
      },
      "source": [
        "# 读取pkl格式的数据文件\n",
        "with gzip.open(path/'mnist.pkl.gz', 'rb') as f:\n",
        "    ((x_train, y_train), (x_valid, y_valid), _) = pickle.load(f, encoding='latin-1')"
      ],
      "execution_count": 0,
      "outputs": []
    },
    {
      "cell_type": "code",
      "metadata": {
        "id": "aeMdvjk1HqJz",
        "colab_type": "code",
        "colab": {
          "base_uri": "https://localhost:8080/",
          "height": 286
        },
        "outputId": "89069687-de37-48cf-efd6-4c3e34d3b807"
      },
      "source": [
        "plt.imshow(x_train[0].reshape((28,28)), cmap=\"gray\")\n",
        "x_train.shape"
      ],
      "execution_count": 31,
      "outputs": [
        {
          "output_type": "execute_result",
          "data": {
            "text/plain": [
              "(50000, 784)"
            ]
          },
          "metadata": {
            "tags": []
          },
          "execution_count": 31
        },
        {
          "output_type": "display_data",
          "data": {
            "image/png": "[encoded data removed]",
            "text/plain": [
              "<Figure size 432x288 with 1 Axes>"
            ]
          },
          "metadata": {
            "tags": []
          }
        }
      ]
    },
    {
      "cell_type": "code",
      "metadata": {
        "id": "fFYomhVBHqJ3",
        "colab_type": "code",
        "colab": {
          "base_uri": "https://localhost:8080/",
          "height": 34
        },
        "outputId": "5c17166d-7f6d-48dc-e8bd-37e900d928d8"
      },
      "source": [
        "x_train,y_train,x_valid,y_valid = map(torch.tensor, (x_train,y_train,x_valid,y_valid))\n",
        "n,c = x_train.shape\n",
        "x_train.shape, y_train.min(), y_train.max()"
      ],
      "execution_count": 32,
      "outputs": [
        {
          "output_type": "execute_result",
          "data": {
            "text/plain": [
              "(torch.Size([50000, 784]), tensor(0), tensor(9))"
            ]
          },
          "metadata": {
            "tags": []
          },
          "execution_count": 32
        }
      ]
    },
    {
      "cell_type": "markdown",
      "metadata": {
        "id": "_67REtqsHqJ6",
        "colab_type": "text"
      },
      "source": [
        "In lesson2-sgd we did these things ourselves:\n",
        "\n",
        "```python\n",
        "x = torch.ones(n,2) \n",
        "def mse(y_hat, y): return ((y_hat-y)**2).mean()\n",
        "y_hat = x@a\n",
        "```\n",
        "\n",
        "Now instead we'll use PyTorch's functions to do it for us, and also to handle mini-batches (which we didn't do last time, since our dataset was so small)."
      ]
    },
    {
      "cell_type": "code",
      "metadata": {
        "id": "xy93Rg24HqJ7",
        "colab_type": "code",
        "colab": {}
      },
      "source": [
        "bs=64\n",
        "train_ds = TensorDataset(x_train, y_train)\n",
        "valid_ds = TensorDataset(x_valid, y_valid)\n",
        "data = DataBunch.create(train_ds, valid_ds, bs=bs)"
      ],
      "execution_count": 0,
      "outputs": []
    },
    {
      "cell_type": "code",
      "metadata": {
        "id": "SroZ9M5UHqJ-",
        "colab_type": "code",
        "colab": {
          "base_uri": "https://localhost:8080/",
          "height": 34
        },
        "outputId": "a6d65614-2900-4538-a66a-fa614a63d33a"
      },
      "source": [
        "x,y = next(iter(data.train_dl))\n",
        "x.shape,y.shape"
      ],
      "execution_count": 45,
      "outputs": [
        {
          "output_type": "execute_result",
          "data": {
            "text/plain": [
              "(torch.Size([64, 784]), torch.Size([64]))"
            ]
          },
          "metadata": {
            "tags": []
          },
          "execution_count": 45
        }
      ]
    },
    {
      "cell_type": "code",
      "metadata": {
        "id": "aomOUhQFHqKC",
        "colab_type": "code",
        "colab": {
          "base_uri": "https://localhost:8080/",
          "height": 67
        },
        "outputId": "bb8f12f0-be7e-407a-b928-9caeeb551a08"
      },
      "source": [
        "#from fastai.basics import *\n",
        "\n",
        "class Mnist_Logistic(nn.Module):\n",
        "    def __init__(self):\n",
        "        super().__init__()\n",
        "        self.lin = nn.Linear(784, 10, bias=True)\n",
        "\n",
        "    def forward(self, xb): return self.lin(xb)\n",
        "model = Mnist_Logistic().cuda()\n",
        "model"
      ],
      "execution_count": 42,
      "outputs": [
        {
          "output_type": "execute_result",
          "data": {
            "text/plain": [
              "Mnist_Logistic(\n",
              "  (lin): Linear(in_features=784, out_features=10, bias=True)\n",
              ")"
            ]
          },
          "metadata": {
            "tags": []
          },
          "execution_count": 42
        }
      ]
    },
    {
      "cell_type": "code",
      "metadata": {
        "id": "7yWnjOW9HqKH",
        "colab_type": "code",
        "colab": {
          "base_uri": "https://localhost:8080/",
          "height": 67
        },
        "outputId": "a4ca04b1-7256-4750-91be-8f74991ca3d6"
      },
      "source": [
        "model"
      ],
      "execution_count": 41,
      "outputs": [
        {
          "output_type": "execute_result",
          "data": {
            "text/plain": [
              "Mnist_Logistic(\n",
              "  (lin): Linear(in_features=784, out_features=10, bias=True)\n",
              ")"
            ]
          },
          "metadata": {
            "tags": []
          },
          "execution_count": 41
        }
      ]
    },
    {
      "cell_type": "code",
      "metadata": {
        "id": "9I2HTOxuHqKL",
        "colab_type": "code",
        "colab": {
          "base_uri": "https://localhost:8080/",
          "height": 34
        },
        "outputId": "051c4b67-852a-4f2c-dff0-06814b7f0ebf"
      },
      "source": [
        "model.lin"
      ],
      "execution_count": 43,
      "outputs": [
        {
          "output_type": "execute_result",
          "data": {
            "text/plain": [
              "Linear(in_features=784, out_features=10, bias=True)"
            ]
          },
          "metadata": {
            "tags": []
          },
          "execution_count": 43
        }
      ]
    },
    {
      "cell_type": "code",
      "metadata": {
        "id": "hBbGRWdPHqKO",
        "colab_type": "code",
        "colab": {
          "base_uri": "https://localhost:8080/",
          "height": 34
        },
        "outputId": "c442bb2c-ef7a-4eb1-e858-c291411c0d97"
      },
      "source": [
        "model(x).shape"
      ],
      "execution_count": 46,
      "outputs": [
        {
          "output_type": "execute_result",
          "data": {
            "text/plain": [
              "torch.Size([64, 10])"
            ]
          },
          "metadata": {
            "tags": []
          },
          "execution_count": 46
        }
      ]
    },
    {
      "cell_type": "code",
      "metadata": {
        "id": "DATnBDyYHqKQ",
        "colab_type": "code",
        "colab": {
          "base_uri": "https://localhost:8080/",
          "height": 34
        },
        "outputId": "53f41348-3adf-4c95-90ad-3645c0814460"
      },
      "source": [
        "[p.shape for p in model.parameters()]"
      ],
      "execution_count": 48,
      "outputs": [
        {
          "output_type": "execute_result",
          "data": {
            "text/plain": [
              "[torch.Size([10, 784]), torch.Size([10])]"
            ]
          },
          "metadata": {
            "tags": []
          },
          "execution_count": 48
        }
      ]
    },
    {
      "cell_type": "code",
      "metadata": {
        "id": "Q8hhtQJJHqKW",
        "colab_type": "code",
        "colab": {}
      },
      "source": [
        "lr=2e-2"
      ],
      "execution_count": 0,
      "outputs": []
    },
    {
      "cell_type": "code",
      "metadata": {
        "id": "AFP9zEQLHqKY",
        "colab_type": "code",
        "colab": {}
      },
      "source": [
        "loss_func = nn.CrossEntropyLoss()"
      ],
      "execution_count": 0,
      "outputs": []
    },
    {
      "cell_type": "code",
      "metadata": {
        "id": "fpquBdZIHqKb",
        "colab_type": "code",
        "colab": {}
      },
      "source": [
        "def update(x,y,lr):\n",
        "    wd = 1e-5\n",
        "    y_hat = model(x)\n",
        "    # weight decay\n",
        "    w2 = 0.\n",
        "    for p in model.parameters(): w2 += (p**2).sum()\n",
        "    # add to regular loss\n",
        "    loss = loss_func(y_hat, y) + w2*wd\n",
        "    loss.backward()\n",
        "    with torch.no_grad():\n",
        "        for p in model.parameters():\n",
        "            p.sub_(lr * p.grad)\n",
        "            p.grad.zero_()\n",
        "    return loss.item()"
      ],
      "execution_count": 0,
      "outputs": []
    },
    {
      "cell_type": "code",
      "metadata": {
        "id": "hkPGvxEUHqKe",
        "colab_type": "code",
        "colab": {}
      },
      "source": [
        "losses = [update(x,y,lr) for x,y in data.train_dl]"
      ],
      "execution_count": 0,
      "outputs": []
    },
    {
      "cell_type": "code",
      "metadata": {
        "id": "sCf4-JOcHqKh",
        "colab_type": "code",
        "colab": {
          "base_uri": "https://localhost:8080/",
          "height": 269
        },
        "outputId": "4c3d9042-d712-4f72-f44c-9ca035f6c731"
      },
      "source": [
        "plt.plot(losses);"
      ],
      "execution_count": 52,
      "outputs": [
        {
          "output_type": "display_data",
          "data": {
            "image/png": "[encoded data removed]",
            "text/plain": [
              "<Figure size 432x288 with 1 Axes>"
            ]
          },
          "metadata": {
            "tags": []
          }
        }
      ]
    },
    {
      "cell_type": "code",
      "metadata": {
        "id": "KgyHhAPyHqKk",
        "colab_type": "code",
        "colab": {}
      },
      "source": [
        "class Mnist_NN(nn.Module):\n",
        "    def __init__(self):\n",
        "        super().__init__()\n",
        "        self.lin1 = nn.Linear(784, 50, bias=True)\n",
        "        self.lin2 = nn.Linear(50, 10, bias=True)\n",
        "\n",
        "    def forward(self, xb):\n",
        "        x = self.lin1(xb)\n",
        "        x = F.relu(x)\n",
        "        return self.lin2(x)"
      ],
      "execution_count": 0,
      "outputs": []
    },
    {
      "cell_type": "code",
      "metadata": {
        "id": "jS07olEaHqKm",
        "colab_type": "code",
        "colab": {}
      },
      "source": [
        "model = Mnist_NN().cuda()"
      ],
      "execution_count": 0,
      "outputs": []
    },
    {
      "cell_type": "code",
      "metadata": {
        "id": "0nu1EQhlHqKo",
        "colab_type": "code",
        "colab": {}
      },
      "source": [
        "losses = [update(x,y,lr) for x,y in data.train_dl]"
      ],
      "execution_count": 0,
      "outputs": []
    },
    {
      "cell_type": "code",
      "metadata": {
        "id": "2j7DCKDfHqKq",
        "colab_type": "code",
        "colab": {
          "base_uri": "https://localhost:8080/",
          "height": 269
        },
        "outputId": "34752550-75e0-40c6-ed11-83384f622c40"
      },
      "source": [
        "plt.plot(losses);"
      ],
      "execution_count": 56,
      "outputs": [
        {
          "output_type": "display_data",
          "data": {
            "image/png": "[encoded data removed]",
            "text/plain": [
              "<Figure size 432x288 with 1 Axes>"
            ]
          },
          "metadata": {
            "tags": []
          }
        }
      ]
    },
    {
      "cell_type": "code",
      "metadata": {
        "id": "Kvyw9L_qHqKt",
        "colab_type": "code",
        "colab": {}
      },
      "source": [
        "model = Mnist_NN().cuda()"
      ],
      "execution_count": 0,
      "outputs": []
    },
    {
      "cell_type": "code",
      "metadata": {
        "id": "cbSb7C6NHqKu",
        "colab_type": "code",
        "colab": {}
      },
      "source": [
        "def update(x,y,lr):\n",
        "    opt = optim.Adam(model.parameters(), lr)\n",
        "    y_hat = model(x)\n",
        "    loss = loss_func(y_hat, y)\n",
        "    loss.backward()\n",
        "    opt.step()\n",
        "    opt.zero_grad()\n",
        "    return loss.item()"
      ],
      "execution_count": 0,
      "outputs": []
    },
    {
      "cell_type": "code",
      "metadata": {
        "id": "nyvUR5K8HqKw",
        "colab_type": "code",
        "colab": {}
      },
      "source": [
        "losses = [update(x,y,1e-3) for x,y in data.train_dl]"
      ],
      "execution_count": 0,
      "outputs": []
    },
    {
      "cell_type": "code",
      "metadata": {
        "id": "QF8SeB6SHqK0",
        "colab_type": "code",
        "colab": {
          "base_uri": "https://localhost:8080/",
          "height": 269
        },
        "outputId": "3a62fb02-5dac-48d2-d701-60ce5ce96f05"
      },
      "source": [
        "plt.plot(losses);"
      ],
      "execution_count": 60,
      "outputs": [
        {
          "output_type": "display_data",
          "data": {
            "image/png": "[encoded data removed]",
            "text/plain": [
              "<Figure size 432x288 with 1 Axes>"
            ]
          },
          "metadata": {
            "tags": []
          }
        }
      ]
    },
    {
      "cell_type": "code",
      "metadata": {
        "id": "UT6vg6c-HqK3",
        "colab_type": "code",
        "colab": {}
      },
      "source": [
        "learn = Learner(data, Mnist_NN(), loss_func=loss_func, metrics=accuracy)"
      ],
      "execution_count": 0,
      "outputs": []
    },
    {
      "cell_type": "markdown",
      "metadata": {
        "id": "IYiLN-QZ3YsK",
        "colab_type": "text"
      },
      "source": [
        "### 启动pdb调试器"
      ]
    },
    {
      "cell_type": "code",
      "metadata": {
        "id": "bS2GD9iuHqK5",
        "colab_type": "code",
        "colab": {
          "base_uri": "https://localhost:8080/",
          "height": 151
        },
        "outputId": "c91fa0b9-0454-4323-8685-287c328508ab"
      },
      "source": [
        "%debug"
      ],
      "execution_count": 62,
      "outputs": [
        {
          "output_type": "stream",
          "text": [
            "> \u001b[0;32m<ipython-input-44-e11ba1637688>\u001b[0m(1)\u001b[0;36m<module>\u001b[0;34m()\u001b[0m\n",
            "\u001b[0;32m----> 1 \u001b[0;31m\u001b[0mmodel\u001b[0m\u001b[0;34m(\u001b[0m\u001b[0mx\u001b[0m\u001b[0;34m)\u001b[0m\u001b[0;34m.\u001b[0m\u001b[0mshape\u001b[0m\u001b[0;34m\u001b[0m\u001b[0;34m\u001b[0m\u001b[0m\n",
            "\u001b[0m\n",
            "--KeyboardInterrupt--\n",
            "--KeyboardInterrupt--\n",
            "--KeyboardInterrupt--\n",
            "--KeyboardInterrupt--\n",
            "ipdb> q\n"
          ],
          "name": "stdout"
        }
      ]
    },
    {
      "cell_type": "code",
      "metadata": {
        "id": "mYPYlfZfHqK8",
        "colab_type": "code",
        "colab": {
          "base_uri": "https://localhost:8080/",
          "height": 300
        },
        "outputId": "6f11177f-84cd-452f-9b0d-3ef731d35104"
      },
      "source": [
        "learn.lr_find()\n",
        "learn.recorder.plot()"
      ],
      "execution_count": 64,
      "outputs": [
        {
          "output_type": "display_data",
          "data": {
            "text/html": [
              ""
            ],
            "text/plain": [
              "<IPython.core.display.HTML object>"
            ]
          },
          "metadata": {
            "tags": []
          }
        },
        {
          "output_type": "stream",
          "text": [
            "LR Finder is complete, type {learner_name}.recorder.plot() to see the graph.\n"
          ],
          "name": "stdout"
        },
        {
          "output_type": "display_data",
          "data": {
            "image/png": "[encoded data removed]",
            "text/plain": [
              "<Figure size 432x288 with 1 Axes>"
            ]
          },
          "metadata": {
            "tags": []
          }
        }
      ]
    },
    {
      "cell_type": "code",
      "metadata": {
        "id": "Mzpf8yp0HqK-",
        "colab_type": "code",
        "colab": {
          "base_uri": "https://localhost:8080/",
          "height": 77
        },
        "outputId": "a4dfe7a1-0d4a-41d5-e13a-aec67f4d449e"
      },
      "source": [
        "learn.fit_one_cycle(1, 1e-2)"
      ],
      "execution_count": 65,
      "outputs": [
        {
          "output_type": "display_data",
          "data": {
            "text/html": [
              "<table border=\"1\" class=\"dataframe\">\n",
              "  <thead>\n",
              "    <tr style=\"text-align: left;\">\n",
              "      <th>epoch</th>\n",
              "      <th>train_loss</th>\n",
              "      <th>valid_loss</th>\n",
              "      <th>accuracy</th>\n",
              "      <th>time</th>\n",
              "    </tr>\n",
              "  </thead>\n",
              "  <tbody>\n",
              "    <tr>\n",
              "      <td>0</td>\n",
              "      <td>0.143112</td>\n",
              "      <td>0.129094</td>\n",
              "      <td>0.963000</td>\n",
              "      <td>00:03</td>\n",
              "    </tr>\n",
              "  </tbody>\n",
              "</table>"
            ],
            "text/plain": [
              "<IPython.core.display.HTML object>"
            ]
          },
          "metadata": {
            "tags": []
          }
        }
      ]
    },
    {
      "cell_type": "code",
      "metadata": {
        "id": "ilzZ6HkWHqLB",
        "colab_type": "code",
        "colab": {
          "base_uri": "https://localhost:8080/",
          "height": 283
        },
        "outputId": "2e119619-c7bf-4723-b541-a65e5f38226c"
      },
      "source": [
        "learn.recorder.plot_lr(show_moms=True)"
      ],
      "execution_count": 66,
      "outputs": [
        {
          "output_type": "display_data",
          "data": {
            "image/png": "[encoded data removed]",
            "text/plain": [
              "<Figure size 864x288 with 2 Axes>"
            ]
          },
          "metadata": {
            "tags": []
          }
        }
      ]
    },
    {
      "cell_type": "code",
      "metadata": {
        "id": "1FYPjZgDHqLE",
        "colab_type": "code",
        "colab": {
          "base_uri": "https://localhost:8080/",
          "height": 283
        },
        "outputId": "693350fb-0821-482a-ab71-2857cda5ba54"
      },
      "source": [
        "learn.recorder.plot_losses()"
      ],
      "execution_count": 67,
      "outputs": [
        {
          "output_type": "display_data",
          "data": {
            "image/png": "[encoded data removed]",
            "text/plain": [
              "<Figure size 432x288 with 1 Axes>"
            ]
          },
          "metadata": {
            "tags": []
          }
        }
      ]
    },
    {
      "cell_type": "markdown",
      "metadata": {
        "id": "vMr9ps--Ug6h",
        "colab_type": "text"
      },
      "source": [
        "## Python实现神经网络\n",
        "- 用纯python实现前馈神经网络，解决经典的异或问题\n",
        "- 参考资料：[neural networks and deep learning](http://neuralnetworksanddeeplearning.com/chap1.html)，[中文版](https://github.com/wqw547243068/school-of-ai-beijing/blob/master/resource/%E7%A5%9E%E7%BB%8F%E2%BD%B9%E7%BB%9C%E5%92%8C%E6%B7%B1%E5%BA%A6%E5%AD%A6%E4%B9%A0.pdf)\n",
        "   - 第一章：使用神经网络识别手写数字\n",
        "   - 第二章：反向传播算法如何工作\n",
        "   - 第三章：改进神经网络的学习方法\n",
        "   - 第四章：神经网络可以计算任何函数的可视化证明\n",
        "   - 第五章：深度神经网络为何很难训练\n",
        "   - 第六章：深度学习\n",
        "- ![](https://pic1.zhimg.com/80/v2-e7688c681195f6197282dc4919b706d4_hd.jpg)"
      ]
    },
    {
      "cell_type": "code",
      "metadata": {
        "id": "MT85AT6QWUkL",
        "colab_type": "code",
        "colab": {
          "base_uri": "https://localhost:8080/",
          "height": 84
        },
        "outputId": "ee44be16-cd3b-4cd6-e087-14be0d0aec2e"
      },
      "source": [
        "# coding:utf8\n",
        "# How to build your own Neural Network from scratch in Python\n",
        "# https://towardsdatascience.com/how-to-build-your-own-neural-network-from-scratch-in-python-68998a08e4f6\n",
        "\n",
        "import numpy as np\n",
        "\n",
        "def sigmoid(x):\n",
        "    return 1.0/(1+ np.exp(-x))\n",
        "\n",
        "def sigmoid_derivative(x):\n",
        "    return x * (1.0 - x)\n",
        "\n",
        "class NeuralNetwork:\n",
        "    def __init__(self, x, y):\n",
        "        self.input      = x\n",
        "        self.weights1   = np.random.rand(self.input.shape[1],4) \n",
        "        self.weights2   = np.random.rand(4,1)                 \n",
        "        self.y          = y\n",
        "        self.output     = np.zeros(self.y.shape)\n",
        "\n",
        "    def feedforward(self):\n",
        "        self.layer1 = sigmoid(np.dot(self.input, self.weights1))\n",
        "        self.output = sigmoid(np.dot(self.layer1, self.weights2))\n",
        "\n",
        "    def backprop(self):\n",
        "        # application of the chain rule to find derivative of the loss function with respect to weights2 and weights1\n",
        "        d_weights2 = np.dot(self.layer1.T, (2*(self.y - self.output) * sigmoid_derivative(self.output)))\n",
        "        d_weights1 = np.dot(self.input.T,  (np.dot(2*(self.y - self.output) * sigmoid_derivative(self.output), self.weights2.T) * sigmoid_derivative(self.layer1)))\n",
        "\n",
        "        # update the weights with the derivative (slope) of the loss function\n",
        "        self.weights1 += d_weights1\n",
        "        self.weights2 += d_weights2\n",
        "\n",
        "\n",
        "if __name__ == \"__main__\":\n",
        "    X = np.array([[0,0,1],\n",
        "                  [0,1,1],\n",
        "                  [1,0,1],\n",
        "                  [1,1,1]])\n",
        "    y = np.array([[0],[1],[1],[0]])\n",
        "    nn = NeuralNetwork(X,y)\n",
        "\n",
        "    for i in range(1500):\n",
        "        nn.feedforward()\n",
        "        nn.backprop()\n",
        "\n",
        "    print(nn.output)"
      ],
      "execution_count": 11,
      "outputs": [
        {
          "output_type": "stream",
          "text": [
            "[[0.022621]\n",
            " [0.984735]\n",
            " [0.975481]\n",
            " [0.020992]]\n"
          ],
          "name": "stdout"
        }
      ]
    },
    {
      "cell_type": "markdown",
      "metadata": {
        "id": "LTs0BQBAWJh3",
        "colab_type": "text"
      },
      "source": [
        "### mnist的pytorch实现\n",
        "- [代码-kaggle](https://www.kaggle.com/justuser/mnist-with-pytorch-fully-connected-network)"
      ]
    },
    {
      "cell_type": "code",
      "metadata": {
        "id": "zJzk61nPUlLd",
        "colab_type": "code",
        "colab": {}
      },
      "source": [
        "# 请自行实现"
      ],
      "execution_count": 0,
      "outputs": []
    },
    {
      "cell_type": "markdown",
      "metadata": {
        "id": "9NhSV87UiWU1",
        "colab_type": "text"
      },
      "source": [
        "### pytorch实现LR\n",
        "- 代码"
      ]
    },
    {
      "cell_type": "code",
      "metadata": {
        "id": "6Rf7QpYvic6K",
        "colab_type": "code",
        "colab": {
          "base_uri": "https://localhost:8080/",
          "height": 907
        },
        "outputId": "f1c808a2-53da-431d-8e38-8585c066fd63"
      },
      "source": [
        "import torch \n",
        "from torch.autograd import Variable \n",
        "\n",
        "x_data = Variable(torch.Tensor([[1.0], [2.0], [3.0]])) \n",
        "y_data = Variable(torch.Tensor([[2.0], [4.0], [6.0]])) \n",
        "\n",
        "\n",
        "class LinearRegressionModel(torch.nn.Module): \n",
        "\n",
        "\tdef __init__(self): \n",
        "\t\tsuper(LinearRegressionModel, self).__init__() \n",
        "\t\tself.linear = torch.nn.Linear(1, 1) # One in and one out \n",
        "\n",
        "\tdef forward(self, x): \n",
        "\t\ty_pred = self.linear(x) \n",
        "\t\treturn y_pred \n",
        "\n",
        "# our model \n",
        "our_model = LinearRegressionModel() \n",
        "\n",
        "criterion = torch.nn.MSELoss(size_average = False) \n",
        "optimizer = torch.optim.SGD(our_model.parameters(), lr = 0.01) \n",
        "\n",
        "for epoch in range(500): \n",
        "\n",
        "\t# Forward pass: Compute predicted y by passing \n",
        "\t# x to the model \n",
        "\tpred_y = our_model(x_data) \n",
        "\n",
        "\t# Compute and print loss \n",
        "\tloss = criterion(pred_y, y_data) \n",
        "\n",
        "\t# Zero gradients, perform a backward pass, \n",
        "\t# and update the weights. \n",
        "\toptimizer.zero_grad() \n",
        "\tloss.backward() \n",
        "\toptimizer.step() \n",
        "\tif epoch %10 == 0:\n",
        "\t    print('epoch {}, loss {}'.format(epoch, loss.data)) \n",
        "\n",
        "new_var = Variable(torch.Tensor([[4.0]])) \n",
        "pred_y = our_model(new_var) \n",
        "print(\"predict (after training)\", 4, our_model(new_var).data[0][0]) \n"
      ],
      "execution_count": 16,
      "outputs": [
        {
          "output_type": "stream",
          "text": [
            "epoch 0, loss 71.31343841552734\n",
            "epoch 10, loss 0.4252530634403229\n",
            "epoch 20, loss 0.3492105305194855\n",
            "epoch 30, loss 0.30214229226112366\n",
            "epoch 40, loss 0.2614228129386902\n",
            "epoch 50, loss 0.22619125247001648\n",
            "epoch 60, loss 0.1957077533006668\n",
            "epoch 70, loss 0.16933244466781616\n",
            "epoch 80, loss 0.1465115249156952\n",
            "epoch 90, loss 0.12676668167114258\n",
            "epoch 100, loss 0.10968242585659027\n",
            "epoch 110, loss 0.09490067511796951\n",
            "epoch 120, loss 0.08211089670658112\n",
            "epoch 130, loss 0.07104498893022537\n",
            "epoch 140, loss 0.06147032603621483\n",
            "epoch 150, loss 0.05318605899810791\n",
            "epoch 160, loss 0.046018172055482864\n",
            "epoch 170, loss 0.039816342294216156\n",
            "epoch 180, loss 0.034450460225343704\n",
            "epoch 190, loss 0.029807545244693756\n",
            "epoch 200, loss 0.025790374726057053\n",
            "epoch 210, loss 0.022314677014946938\n",
            "epoch 220, loss 0.01930735632777214\n",
            "epoch 230, loss 0.016705285757780075\n",
            "epoch 240, loss 0.014453970827162266\n",
            "epoch 250, loss 0.012506077066063881\n",
            "epoch 260, loss 0.010820627212524414\n",
            "epoch 270, loss 0.009362328797578812\n",
            "epoch 280, loss 0.008100575767457485\n",
            "epoch 290, loss 0.007008872460573912\n",
            "epoch 300, loss 0.006064319051802158\n",
            "epoch 310, loss 0.005247039720416069\n",
            "epoch 320, loss 0.004539907444268465\n",
            "epoch 330, loss 0.003928076941519976\n",
            "epoch 340, loss 0.003398697590455413\n",
            "epoch 350, loss 0.002940625883638859\n",
            "epoch 360, loss 0.0025443185586482286\n",
            "epoch 370, loss 0.0022014344576746225\n",
            "epoch 380, loss 0.001904744771309197\n",
            "epoch 390, loss 0.001648054807446897\n",
            "epoch 400, loss 0.0014259315794333816\n",
            "epoch 410, loss 0.001233779825270176\n",
            "epoch 420, loss 0.0010675069643184543\n",
            "epoch 430, loss 0.0009236374171450734\n",
            "epoch 440, loss 0.0007991525926627219\n",
            "epoch 450, loss 0.0006914595142006874\n",
            "epoch 460, loss 0.000598282553255558\n",
            "epoch 470, loss 0.0005176346166990697\n",
            "epoch 480, loss 0.0004478771588765085\n",
            "epoch 490, loss 0.00038752189720980823\n",
            "predict (after training) 4 tensor(7.9788)\n"
          ],
          "name": "stdout"
        },
        {
          "output_type": "stream",
          "text": [
            "/usr/local/lib/python3.6/dist-packages/torch/nn/_reduction.py:46: UserWarning: size_average and reduce args will be deprecated, please use reduction='sum' instead.\n",
            "  warnings.warn(warning.format(ret))\n"
          ],
          "name": "stderr"
        }
      ]
    },
    {
      "cell_type": "markdown",
      "metadata": {
        "id": "w5Rw5HeVhQJg",
        "colab_type": "text"
      },
      "source": [
        "## 附录\n",
        "\n",
        "[![soai](https://github.com/wqw547243068/school-of-ai-beijing/raw/master/other/first_lecture.jpg)](https://wqw547243068.github.io/school-of-ai-beijing/)"
      ]
    }
  ]
}